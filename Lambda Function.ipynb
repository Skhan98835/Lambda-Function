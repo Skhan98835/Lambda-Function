{
 "cells": [
  {
   "cell_type": "code",
   "execution_count": 3,
   "id": "d0971f72-383b-4daf-9a7d-a9608c6e6b87",
   "metadata": {},
   "outputs": [
    {
     "ename": "TypeError",
     "evalue": "'int' object is not iterable",
     "output_type": "error",
     "traceback": [
      "\u001b[0;31m---------------------------------------------------------------------------\u001b[0m",
      "\u001b[0;31mTypeError\u001b[0m                                 Traceback (most recent call last)",
      "Cell \u001b[0;32mIn[3], line 1\u001b[0m\n\u001b[0;32m----> 1\u001b[0m \u001b[38;5;28mlist\u001b[39m (\u001b[38;5;28;43mfilter\u001b[39;49m\u001b[43m \u001b[49m\u001b[43m(\u001b[49m\u001b[38;5;28;43;01mlambda\u001b[39;49;00m\u001b[43m \u001b[49m\u001b[43mx\u001b[49m\u001b[43m \u001b[49m\u001b[43m:\u001b[49m\u001b[43m \u001b[49m\u001b[43mx\u001b[49m\u001b[43m \u001b[49m\u001b[38;5;241;43m%\u001b[39;49m\u001b[43m \u001b[49m\u001b[38;5;241;43m2\u001b[39;49m\u001b[43m \u001b[49m\u001b[38;5;241;43m==\u001b[39;49m\u001b[43m \u001b[49m\u001b[38;5;241;43m0\u001b[39;49m\u001b[43m,\u001b[49m\u001b[38;5;241;43m1\u001b[39;49m\u001b[43m)\u001b[49m)\n",
      "\u001b[0;31mTypeError\u001b[0m: 'int' object is not iterable"
     ]
    }
   ],
   "source": [
    "list (filter (lambda x : x % 2 == 0,1))\n"
   ]
  },
  {
   "cell_type": "code",
   "execution_count": 4,
   "id": "df5d4707-f101-4627-ad07-5911c12b95b7",
   "metadata": {},
   "outputs": [],
   "source": [
    "n = 3\n",
    "p = 2"
   ]
  },
  {
   "cell_type": "code",
   "execution_count": 5,
   "id": "9a6cc6cc-87de-4c2c-a461-df4083cd3410",
   "metadata": {},
   "outputs": [],
   "source": [
    "def test(n,p):\n",
    "    return n**p"
   ]
  },
  {
   "cell_type": "code",
   "execution_count": 6,
   "id": "a3333994-8709-4b51-bf0a-f9a7d76fc076",
   "metadata": {},
   "outputs": [
    {
     "data": {
      "text/plain": [
       "9"
      ]
     },
     "execution_count": 6,
     "metadata": {},
     "output_type": "execute_result"
    }
   ],
   "source": [
    "test(3,2)"
   ]
  },
  {
   "cell_type": "code",
   "execution_count": 8,
   "id": "3f3641db-7411-4bea-b5f2-6fd93f801b1b",
   "metadata": {},
   "outputs": [],
   "source": [
    "a = lambda n,p : n**p"
   ]
  },
  {
   "cell_type": "code",
   "execution_count": 9,
   "id": "140effe6-7baf-4430-b8e8-0bad2fa0ccaa",
   "metadata": {},
   "outputs": [
    {
     "data": {
      "text/plain": [
       "9"
      ]
     },
     "execution_count": 9,
     "metadata": {},
     "output_type": "execute_result"
    }
   ],
   "source": [
    "a(3,2)"
   ]
  },
  {
   "cell_type": "code",
   "execution_count": 10,
   "id": "e376e12e-aab1-48ff-8d97-c94119ae3fd1",
   "metadata": {},
   "outputs": [],
   "source": [
    "add = lambda x,y :x+y"
   ]
  },
  {
   "cell_type": "code",
   "execution_count": 11,
   "id": "b26e7600-3610-4453-b8ca-94297c477546",
   "metadata": {},
   "outputs": [
    {
     "data": {
      "text/plain": [
       "9"
      ]
     },
     "execution_count": 11,
     "metadata": {},
     "output_type": "execute_result"
    }
   ],
   "source": [
    "add (4,5)"
   ]
  },
  {
   "cell_type": "code",
   "execution_count": 13,
   "id": "ea8c5b61-5d56-4d40-866b-b4dfe7f9c8c7",
   "metadata": {},
   "outputs": [],
   "source": [
    "sub = lambda x,y :x+y"
   ]
  },
  {
   "cell_type": "code",
   "execution_count": 15,
   "id": "2026f496-eaf9-47d4-af5b-b180096449d2",
   "metadata": {},
   "outputs": [
    {
     "data": {
      "text/plain": [
       "9"
      ]
     },
     "execution_count": 15,
     "metadata": {},
     "output_type": "execute_result"
    }
   ],
   "source": [
    "sub(5,4)"
   ]
  },
  {
   "cell_type": "code",
   "execution_count": 18,
   "id": "aeec7d0c-8aa0-4dd1-8e62-34a579d82081",
   "metadata": {},
   "outputs": [],
   "source": [
    "c_to_f = lambda c : (9/5)*c+ 32"
   ]
  },
  {
   "cell_type": "code",
   "execution_count": 19,
   "id": "2eed5393-2105-419e-9fe9-099b76d637e7",
   "metadata": {},
   "outputs": [
    {
     "data": {
      "text/plain": [
       "113.0"
      ]
     },
     "execution_count": 19,
     "metadata": {},
     "output_type": "execute_result"
    }
   ],
   "source": [
    "c_to_f(45)"
   ]
  },
  {
   "cell_type": "code",
   "execution_count": 20,
   "id": "019ef899-b40f-4daf-a1ca-d8c59c07ffbb",
   "metadata": {},
   "outputs": [
    {
     "data": {
      "text/plain": [
       "167.0"
      ]
     },
     "execution_count": 20,
     "metadata": {},
     "output_type": "execute_result"
    }
   ],
   "source": [
    "c_to_f(75)"
   ]
  },
  {
   "cell_type": "code",
   "execution_count": 21,
   "id": "14640cd4-99b5-4cd9-974f-b949b90b18c5",
   "metadata": {},
   "outputs": [],
   "source": [
    "finding_max = lambda x,y : x if x>y else y"
   ]
  },
  {
   "cell_type": "code",
   "execution_count": 23,
   "id": "f345418e-9316-4018-b401-a472826b5c8a",
   "metadata": {},
   "outputs": [
    {
     "data": {
      "text/plain": [
       "45"
      ]
     },
     "execution_count": 23,
     "metadata": {},
     "output_type": "execute_result"
    }
   ],
   "source": [
    "finding_max (45,25)"
   ]
  },
  {
   "cell_type": "code",
   "execution_count": 24,
   "id": "a747e0fc-a952-45cf-826d-62e2ad38d6ab",
   "metadata": {},
   "outputs": [],
   "source": [
    "finding_min = lambda x,y : x if x>y else y"
   ]
  },
  {
   "cell_type": "code",
   "execution_count": 26,
   "id": "7d209b7b-811c-4604-879b-ffbda09d7b0d",
   "metadata": {},
   "outputs": [
    {
     "data": {
      "text/plain": [
       "45"
      ]
     },
     "execution_count": 26,
     "metadata": {},
     "output_type": "execute_result"
    }
   ],
   "source": [
    "finding_min (45,25)"
   ]
  },
  {
   "cell_type": "code",
   "execution_count": 27,
   "id": "b52ba250-490d-474b-9e9a-46a731002d83",
   "metadata": {},
   "outputs": [],
   "source": [
    "s = \"pwskill\""
   ]
  },
  {
   "cell_type": "code",
   "execution_count": 28,
   "id": "dd19070c-a42d-4b37-a980-2ad8ff66fc43",
   "metadata": {},
   "outputs": [
    {
     "data": {
      "text/plain": [
       "'pwskill'"
      ]
     },
     "execution_count": 28,
     "metadata": {},
     "output_type": "execute_result"
    }
   ],
   "source": [
    "s"
   ]
  },
  {
   "cell_type": "code",
   "execution_count": 29,
   "id": "19eb1640-c218-4a7c-b03b-8bc7e9d08e42",
   "metadata": {},
   "outputs": [],
   "source": [
    "find_len = lambda s :len(s)"
   ]
  },
  {
   "cell_type": "code",
   "execution_count": 31,
   "id": "4ab24249-9743-43d2-9470-30d60c4ef40f",
   "metadata": {},
   "outputs": [
    {
     "data": {
      "text/plain": [
       "7"
      ]
     },
     "execution_count": 31,
     "metadata": {},
     "output_type": "execute_result"
    }
   ],
   "source": [
    "find_len(s)"
   ]
  },
  {
   "cell_type": "code",
   "execution_count": null,
   "id": "d9387613-88a4-4382-b607-6084822620cf",
   "metadata": {},
   "outputs": [],
   "source": []
  }
 ],
 "metadata": {
  "kernelspec": {
   "display_name": "Python 3 (ipykernel)",
   "language": "python",
   "name": "python3"
  },
  "language_info": {
   "codemirror_mode": {
    "name": "ipython",
    "version": 3
   },
   "file_extension": ".py",
   "mimetype": "text/x-python",
   "name": "python",
   "nbconvert_exporter": "python",
   "pygments_lexer": "ipython3",
   "version": "3.10.8"
  }
 },
 "nbformat": 4,
 "nbformat_minor": 5
}
